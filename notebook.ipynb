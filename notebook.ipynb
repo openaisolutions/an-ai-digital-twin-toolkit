{
 "cells": [
  {
   "cell_type": "code",
   "execution_count": 3,
   "metadata": {},
   "outputs": [
    {
     "name": "stderr",
     "output_type": "stream",
     "text": [
      "C:\\Users\\todd_\\AppData\\Local\\Packages\\PythonSoftwareFoundation.Python.3.10_qbz5n2kfra8p0\\LocalCache\\local-packages\\Python310\\site-packages\\nbformat\\__init__.py:129: MissingIDFieldWarning: Code cell is missing an id field, this will become a hard error in future nbformat versions. You may want to use `normalize()` on your notebooks before validations (available since nbformat 5.1.4). Previous versions of nbformat are fixing this issue transparently, and will stop doing so in the future.\n",
      "  validate(nb)\n"
     ]
    }
   ],
   "source": [
    "import os\n",
    "import nbformat as nbf\n",
    "from nbformat.v4 import new_code_cell, new_markdown_cell\n",
    "import warnings\n",
    "from nbformat.validator import DuplicateCellId\n",
    "\n",
    "def create_ipynb_from_repo(repo_path, output_filename):\n",
    "    nb = nbf.v4.new_notebook()\n",
    "    cells = []\n",
    "    all_files = []\n",
    "\n",
    "    # Collect all files and sort them according to the desired order\n",
    "    for root, dirs, files in os.walk(repo_path):\n",
    "        for file in files:\n",
    "            if file.endswith('.md') or file.endswith('.py') or file.endswith('.ipynb'):\n",
    "                all_files.append((root, file))\n",
    "\n",
    "    all_files.sort(key=lambda x: (x[1].endswith('.md'), x[1].endswith('.ipynb'), x[1].endswith('.py')))\n",
    "\n",
    "    for root, file in all_files:\n",
    "        file_path = os.path.join(root, file)\n",
    "        rel_path = os.path.relpath(file_path, repo_path)\n",
    "        file_url = f\"https://github.com/your_username/your_repo_name/blob/main/{rel_path}\"\n",
    "\n",
    "        cells.append(new_markdown_cell(f\"## [{rel_path}]({file_url})\"))\n",
    "\n",
    "        with open(file_path, 'r') as f:\n",
    "            file_content = f.read()\n",
    "            if file.endswith('.md'):\n",
    "                cells.append(new_markdown_cell(file_content))\n",
    "            elif file.endswith('.ipynb'):\n",
    "                nb_content = nbf.reads(file_content, as_version=4)\n",
    "                cells.extend(nb_content['cells'])\n",
    "            else:\n",
    "                cells.append(new_code_cell(file_content))\n",
    "\n",
    "    nb['cells'] = cells\n",
    "\n",
    "    with open(output_filename, 'w') as f:\n",
    "        with warnings.catch_warnings():\n",
    "            warnings.simplefilter(\"ignore\", category=DuplicateCellId)\n",
    "            nbf.write(nb, f)\n",
    "\n",
    "if __name__ == '__main__':\n",
    "    repo_path = \".\"\n",
    "    output_filename = \"combined.ipynb\"\n",
    "    create_ipynb_from_repo(repo_path, output_filename)\n"
   ]
  },
  {
   "cell_type": "code",
   "execution_count": null,
   "metadata": {},
   "outputs": [],
   "source": [
    "import os\n",
    "import yaml\n",
    "\n",
    "def create_yaml_from_repo(repo_path, output_filename):\n",
    "    def add_to_dict_hierarchy(d, path_parts, file):\n",
    "        if len(path_parts) == 1:\n",
    "            d[path_parts[0]] = file\n",
    "        else:\n",
    "            if path_parts[0] not in d:\n",
    "                d[path_parts[0]] = {}\n",
    "            add_to_dict_hierarchy(d[path_parts[0]], path_parts[1:], file)\n",
    "\n",
    "    repo_dict = {}\n",
    "    \n",
    "    for root, dirs, files in os.walk(repo_path):\n",
    "        # Ignore .git directories\n",
    "        if \".git\" in root:\n",
    "            continue\n",
    "        \n",
    "        for file in files:\n",
    "            file_path = os.path.join(root, file)\n",
    "            rel_path = os.path.relpath(file_path, repo_path)\n",
    "            path_parts = rel_path.split(os.sep)\n",
    "\n",
    "            add_to_dict_hierarchy(repo_dict, path_parts, file)\n",
    "\n",
    "    with open(output_filename, 'w') as f:\n",
    "        yaml.dump(repo_dict, f, sort_keys=True, indent=4)\n",
    "\n",
    "if __name__ == '__main__':\n",
    "    repo_path = \".\"\n",
    "    output_filename = \"repository_structure.yaml\"\n",
    "    create_yaml_from_repo(repo_path, output_filename)\n"
   ]
  },
  {
   "cell_type": "code",
   "execution_count": 2,
   "metadata": {},
   "outputs": [
    {
     "ename": "OSError",
     "evalue": "xelatex not found on PATH, if you have not installed xelatex you may need to do so. Find further instructions at https://nbconvert.readthedocs.io/en/latest/install.html#installing-tex.",
     "output_type": "error",
     "traceback": [
      "\u001b[1;31m---------------------------------------------------------------------------\u001b[0m",
      "\u001b[1;31mOSError\u001b[0m                                   Traceback (most recent call last)",
      "Cell \u001b[1;32mIn[2], line 21\u001b[0m\n\u001b[0;32m     19\u001b[0m input_file \u001b[39m=\u001b[39m \u001b[39m\"\u001b[39m\u001b[39mcombined.ipynb\u001b[39m\u001b[39m\"\u001b[39m\n\u001b[0;32m     20\u001b[0m output_file \u001b[39m=\u001b[39m \u001b[39m\"\u001b[39m\u001b[39mDigital_Twin_Guide.pdf\u001b[39m\u001b[39m\"\u001b[39m\n\u001b[1;32m---> 21\u001b[0m convert_ipynb_to_pdf(input_file, output_file)\n",
      "Cell \u001b[1;32mIn[2], line 12\u001b[0m, in \u001b[0;36mconvert_ipynb_to_pdf\u001b[1;34m(input_file, output_file)\u001b[0m\n\u001b[0;32m     10\u001b[0m \u001b[39m# Convert the notebook to PDF\u001b[39;00m\n\u001b[0;32m     11\u001b[0m pdf_exporter \u001b[39m=\u001b[39m PDFExporter()\n\u001b[1;32m---> 12\u001b[0m pdf_data, resources \u001b[39m=\u001b[39m pdf_exporter\u001b[39m.\u001b[39;49mfrom_notebook_node(notebook)\n\u001b[0;32m     14\u001b[0m \u001b[39m# Write the PDF data to the output file\u001b[39;00m\n\u001b[0;32m     15\u001b[0m \u001b[39mwith\u001b[39;00m \u001b[39mopen\u001b[39m(output_file, \u001b[39m'\u001b[39m\u001b[39mwb\u001b[39m\u001b[39m'\u001b[39m) \u001b[39mas\u001b[39;00m f:\n",
      "File \u001b[1;32m~\\AppData\\Local\\Packages\\PythonSoftwareFoundation.Python.3.10_qbz5n2kfra8p0\\LocalCache\\local-packages\\Python310\\site-packages\\nbconvert\\exporters\\pdf.py:199\u001b[0m, in \u001b[0;36mPDFExporter.from_notebook_node\u001b[1;34m(self, nb, resources, **kw)\u001b[0m\n\u001b[0;32m    197\u001b[0m tex_file \u001b[39m=\u001b[39m \u001b[39mself\u001b[39m\u001b[39m.\u001b[39mwriter\u001b[39m.\u001b[39mwrite(latex, resources, notebook_name\u001b[39m=\u001b[39mnotebook_name)\n\u001b[0;32m    198\u001b[0m \u001b[39mself\u001b[39m\u001b[39m.\u001b[39mlog\u001b[39m.\u001b[39minfo(\u001b[39m\"\u001b[39m\u001b[39mBuilding PDF\u001b[39m\u001b[39m\"\u001b[39m)\n\u001b[1;32m--> 199\u001b[0m \u001b[39mself\u001b[39;49m\u001b[39m.\u001b[39;49mrun_latex(tex_file)\n\u001b[0;32m    200\u001b[0m \u001b[39mif\u001b[39;00m \u001b[39mself\u001b[39m\u001b[39m.\u001b[39mrun_bib(tex_file):\n\u001b[0;32m    201\u001b[0m     \u001b[39mself\u001b[39m\u001b[39m.\u001b[39mrun_latex(tex_file)\n",
      "File \u001b[1;32m~\\AppData\\Local\\Packages\\PythonSoftwareFoundation.Python.3.10_qbz5n2kfra8p0\\LocalCache\\local-packages\\Python310\\site-packages\\nbconvert\\exporters\\pdf.py:168\u001b[0m, in \u001b[0;36mPDFExporter.run_latex\u001b[1;34m(self, filename, raise_on_failure)\u001b[0m\n\u001b[0;32m    165\u001b[0m \u001b[39mdef\u001b[39;00m \u001b[39mlog_error\u001b[39m(command, out):\n\u001b[0;32m    166\u001b[0m     \u001b[39mself\u001b[39m\u001b[39m.\u001b[39mlog\u001b[39m.\u001b[39mcritical(\u001b[39m\"\u001b[39m\u001b[39m%s\u001b[39;00m\u001b[39m failed: \u001b[39m\u001b[39m%s\u001b[39;00m\u001b[39m\\n\u001b[39;00m\u001b[39m%s\u001b[39;00m\u001b[39m\"\u001b[39m, command[\u001b[39m0\u001b[39m], command, out)\n\u001b[1;32m--> 168\u001b[0m \u001b[39mreturn\u001b[39;00m \u001b[39mself\u001b[39;49m\u001b[39m.\u001b[39;49mrun_command(\n\u001b[0;32m    169\u001b[0m     \u001b[39mself\u001b[39;49m\u001b[39m.\u001b[39;49mlatex_command, filename, \u001b[39mself\u001b[39;49m\u001b[39m.\u001b[39;49mlatex_count, log_error, raise_on_failure\n\u001b[0;32m    170\u001b[0m )\n",
      "File \u001b[1;32m~\\AppData\\Local\\Packages\\PythonSoftwareFoundation.Python.3.10_qbz5n2kfra8p0\\LocalCache\\local-packages\\Python310\\site-packages\\nbconvert\\exporters\\pdf.py:122\u001b[0m, in \u001b[0;36mPDFExporter.run_command\u001b[1;34m(self, command_list, filename, count, log_function, raise_on_failure)\u001b[0m\n\u001b[0;32m    116\u001b[0m     link \u001b[39m=\u001b[39m \u001b[39m\"\u001b[39m\u001b[39mhttps://nbconvert.readthedocs.io/en/latest/install.html#installing-tex\u001b[39m\u001b[39m\"\u001b[39m\n\u001b[0;32m    117\u001b[0m     msg \u001b[39m=\u001b[39m (\n\u001b[0;32m    118\u001b[0m         \u001b[39m\"\u001b[39m\u001b[39m{formatter}\u001b[39;00m\u001b[39m not found on PATH, if you have not installed \u001b[39m\u001b[39m\"\u001b[39m\n\u001b[0;32m    119\u001b[0m         \u001b[39m\"\u001b[39m\u001b[39m{formatter}\u001b[39;00m\u001b[39m you may need to do so. Find further instructions \u001b[39m\u001b[39m\"\u001b[39m\n\u001b[0;32m    120\u001b[0m         \u001b[39m\"\u001b[39m\u001b[39mat \u001b[39m\u001b[39m{link}\u001b[39;00m\u001b[39m.\u001b[39m\u001b[39m\"\u001b[39m\u001b[39m.\u001b[39mformat(formatter\u001b[39m=\u001b[39mcommand_list[\u001b[39m0\u001b[39m], link\u001b[39m=\u001b[39mlink)\n\u001b[0;32m    121\u001b[0m     )\n\u001b[1;32m--> 122\u001b[0m     \u001b[39mraise\u001b[39;00m \u001b[39mOSError\u001b[39;00m(msg)\n\u001b[0;32m    124\u001b[0m times \u001b[39m=\u001b[39m \u001b[39m\"\u001b[39m\u001b[39mtime\u001b[39m\u001b[39m\"\u001b[39m \u001b[39mif\u001b[39;00m count \u001b[39m==\u001b[39m \u001b[39m1\u001b[39m \u001b[39melse\u001b[39;00m \u001b[39m\"\u001b[39m\u001b[39mtimes\u001b[39m\u001b[39m\"\u001b[39m\n\u001b[0;32m    125\u001b[0m \u001b[39mself\u001b[39m\u001b[39m.\u001b[39mlog\u001b[39m.\u001b[39minfo(\u001b[39m\"\u001b[39m\u001b[39mRunning \u001b[39m\u001b[39m%s\u001b[39;00m\u001b[39m \u001b[39m\u001b[39m%i\u001b[39;00m\u001b[39m \u001b[39m\u001b[39m%s\u001b[39;00m\u001b[39m: \u001b[39m\u001b[39m%s\u001b[39;00m\u001b[39m\"\u001b[39m, command_list[\u001b[39m0\u001b[39m], count, times, command)\n",
      "\u001b[1;31mOSError\u001b[0m: xelatex not found on PATH, if you have not installed xelatex you may need to do so. Find further instructions at https://nbconvert.readthedocs.io/en/latest/install.html#installing-tex."
     ]
    }
   ],
   "source": [
    "import nbformat\n",
    "from nbconvert import PDFExporter\n",
    "\n",
    "def convert_ipynb_to_pdf(input_file, output_file):\n",
    "    # Read the notebook\n",
    "    with open(input_file, 'r') as f:\n",
    "        nb_content = f.read()\n",
    "    notebook = nbformat.reads(nb_content, as_version=4)\n",
    "\n",
    "    # Convert the notebook to PDF\n",
    "    pdf_exporter = PDFExporter()\n",
    "    pdf_data, resources = pdf_exporter.from_notebook_node(notebook)\n",
    "\n",
    "    # Write the PDF data to the output file\n",
    "    with open(output_file, 'wb') as f:\n",
    "        f.write(pdf_data)\n",
    "\n",
    "if __name__ == \"__main__\":\n",
    "    input_file = \"combined.ipynb\"\n",
    "    output_file = \"Digital_Twin_Guide.pdf\"\n",
    "    convert_ipynb_to_pdf(input_file, output_file)\n"
   ]
  },
  {
   "cell_type": "code",
   "execution_count": null,
   "metadata": {},
   "outputs": [],
   "source": [
    "!pip install --upgrade pip"
   ]
  }
 ],
 "metadata": {
  "kernelspec": {
   "display_name": "Python 3",
   "language": "python",
   "name": "python3"
  },
  "language_info": {
   "codemirror_mode": {
    "name": "ipython",
    "version": 3
   },
   "file_extension": ".py",
   "mimetype": "text/x-python",
   "name": "python",
   "nbconvert_exporter": "python",
   "pygments_lexer": "ipython3",
   "version": "3.10.11"
  },
  "orig_nbformat": 4
 },
 "nbformat": 4,
 "nbformat_minor": 2
}
