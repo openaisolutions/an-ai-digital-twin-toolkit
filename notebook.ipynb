{
 "cells": [
  {
   "cell_type": "code",
   "execution_count": 36,
   "metadata": {},
   "outputs": [],
   "source": [
    "import os\n",
    "import nbformat as nbf\n",
    "from nbformat.v4 import new_code_cell, new_markdown_cell\n",
    "\n",
    "def create_ipynb_from_repo(repo_path, output_filename):\n",
    "    nb = nbf.v4.new_notebook()\n",
    "    cells = []\n",
    "\n",
    "    for root, dirs, files in os.walk(repo_path):\n",
    "        for file in files:\n",
    "            if file.endswith('.md') or file.endswith('.py'):\n",
    "                file_path = os.path.join(root, file)\n",
    "                rel_path = os.path.relpath(file_path, repo_path)\n",
    "                file_url = f\"https://github.com/your_username/your_repo_name/blob/main/{rel_path}\"\n",
    "\n",
    "                cells.append(new_markdown_cell(f\"## [{rel_path}]({file_url})\"))\n",
    "                \n",
    "                with open(file_path, 'r') as f:\n",
    "                    file_content = f.read()\n",
    "                    if file.endswith('.md'):\n",
    "                        cells.append(new_markdown_cell(file_content))\n",
    "                    else:\n",
    "                        cells.append(new_code_cell(file_content))\n",
    "\n",
    "    nb['cells'] = cells\n",
    "\n",
    "    with open(output_filename, 'w') as f:\n",
    "        nbf.write(nb, f)\n",
    "\n",
    "if __name__ == '__main__':\n",
    "    repo_path = \".\"\n",
    "    output_filename = \"combined.ipynb\"\n",
    "    create_ipynb_from_repo(repo_path, output_filename)\n"
   ]
  },
  {
   "cell_type": "code",
   "execution_count": 37,
   "metadata": {},
   "outputs": [],
   "source": [
    "import os\n",
    "import yaml\n",
    "\n",
    "def create_yaml_from_repo(repo_path, output_filename):\n",
    "    def add_to_dict_hierarchy(d, path_parts, file):\n",
    "        if len(path_parts) == 1:\n",
    "            d[path_parts[0]] = file\n",
    "        else:\n",
    "            if path_parts[0] not in d:\n",
    "                d[path_parts[0]] = {}\n",
    "            add_to_dict_hierarchy(d[path_parts[0]], path_parts[1:], file)\n",
    "\n",
    "    repo_dict = {}\n",
    "    \n",
    "    for root, dirs, files in os.walk(repo_path):\n",
    "        # Ignore .git directories\n",
    "        if \".git\" in root:\n",
    "            continue\n",
    "        \n",
    "        for file in files:\n",
    "            file_path = os.path.join(root, file)\n",
    "            rel_path = os.path.relpath(file_path, repo_path)\n",
    "            path_parts = rel_path.split(os.sep)\n",
    "\n",
    "            add_to_dict_hierarchy(repo_dict, path_parts, file)\n",
    "\n",
    "    with open(output_filename, 'w') as f:\n",
    "        yaml.dump(repo_dict, f, sort_keys=True, indent=4)\n",
    "\n",
    "if __name__ == '__main__':\n",
    "    repo_path = \".\"\n",
    "    output_filename = \"repository_structure.yaml\"\n",
    "    create_yaml_from_repo(repo_path, output_filename)\n"
   ]
  },
  {
   "cell_type": "code",
   "execution_count": 40,
   "metadata": {},
   "outputs": [
    {
     "name": "stdout",
     "output_type": "stream",
     "text": [
      "Requirement already satisfied: nbconvert in c:\\users\\todd_\\appdata\\local\\packages\\pythonsoftwarefoundation.python.3.10_qbz5n2kfra8p0\\localcache\\local-packages\\python310\\site-packages (7.3.1)\n",
      "Requirement already satisfied: jinja2>=3.0 in c:\\users\\todd_\\appdata\\local\\packages\\pythonsoftwarefoundation.python.3.10_qbz5n2kfra8p0\\localcache\\local-packages\\python310\\site-packages (from nbconvert) (3.1.2)\n",
      "Requirement already satisfied: defusedxml in c:\\users\\todd_\\appdata\\local\\packages\\pythonsoftwarefoundation.python.3.10_qbz5n2kfra8p0\\localcache\\local-packages\\python310\\site-packages (from nbconvert) (0.7.1)\n",
      "Requirement already satisfied: jupyter-core>=4.7 in c:\\users\\todd_\\appdata\\local\\packages\\pythonsoftwarefoundation.python.3.10_qbz5n2kfra8p0\\localcache\\local-packages\\python310\\site-packages (from nbconvert) (5.3.0)\n",
      "Requirement already satisfied: pygments>=2.4.1 in c:\\users\\todd_\\appdata\\local\\packages\\pythonsoftwarefoundation.python.3.10_qbz5n2kfra8p0\\localcache\\local-packages\\python310\\site-packages (from nbconvert) (2.14.0)\n",
      "Requirement already satisfied: tinycss2 in c:\\users\\todd_\\appdata\\local\\packages\\pythonsoftwarefoundation.python.3.10_qbz5n2kfra8p0\\localcache\\local-packages\\python310\\site-packages (from nbconvert) (1.2.1)\n",
      "Requirement already satisfied: traitlets>=5.0 in c:\\users\\todd_\\appdata\\local\\packages\\pythonsoftwarefoundation.python.3.10_qbz5n2kfra8p0\\localcache\\local-packages\\python310\\site-packages (from nbconvert) (5.9.0)\n",
      "Requirement already satisfied: bleach in c:\\users\\todd_\\appdata\\local\\packages\\pythonsoftwarefoundation.python.3.10_qbz5n2kfra8p0\\localcache\\local-packages\\python310\\site-packages (from nbconvert) (6.0.0)\n",
      "Requirement already satisfied: markupsafe>=2.0 in c:\\users\\todd_\\appdata\\local\\packages\\pythonsoftwarefoundation.python.3.10_qbz5n2kfra8p0\\localcache\\local-packages\\python310\\site-packages (from nbconvert) (2.1.1)\n",
      "Requirement already satisfied: nbformat>=5.1 in c:\\users\\todd_\\appdata\\local\\packages\\pythonsoftwarefoundation.python.3.10_qbz5n2kfra8p0\\localcache\\local-packages\\python310\\site-packages (from nbconvert) (5.8.0)\n",
      "Requirement already satisfied: beautifulsoup4 in c:\\users\\todd_\\appdata\\local\\packages\\pythonsoftwarefoundation.python.3.10_qbz5n2kfra8p0\\localcache\\local-packages\\python310\\site-packages (from nbconvert) (4.12.1)\n",
      "Requirement already satisfied: packaging in c:\\users\\todd_\\appdata\\local\\packages\\pythonsoftwarefoundation.python.3.10_qbz5n2kfra8p0\\localcache\\local-packages\\python310\\site-packages (from nbconvert) (21.3)\n",
      "Requirement already satisfied: jupyterlab-pygments in c:\\users\\todd_\\appdata\\local\\packages\\pythonsoftwarefoundation.python.3.10_qbz5n2kfra8p0\\localcache\\local-packages\\python310\\site-packages (from nbconvert) (0.2.2)\n",
      "Requirement already satisfied: mistune<3,>=2.0.3 in c:\\users\\todd_\\appdata\\local\\packages\\pythonsoftwarefoundation.python.3.10_qbz5n2kfra8p0\\localcache\\local-packages\\python310\\site-packages (from nbconvert) (2.0.5)\n",
      "Requirement already satisfied: nbclient>=0.5.0 in c:\\users\\todd_\\appdata\\local\\packages\\pythonsoftwarefoundation.python.3.10_qbz5n2kfra8p0\\localcache\\local-packages\\python310\\site-packages (from nbconvert) (0.7.4)\n",
      "Requirement already satisfied: pandocfilters>=1.4.1 in c:\\users\\todd_\\appdata\\local\\packages\\pythonsoftwarefoundation.python.3.10_qbz5n2kfra8p0\\localcache\\local-packages\\python310\\site-packages (from nbconvert) (1.5.0)\n",
      "Requirement already satisfied: platformdirs>=2.5 in c:\\users\\todd_\\appdata\\local\\packages\\pythonsoftwarefoundation.python.3.10_qbz5n2kfra8p0\\localcache\\local-packages\\python310\\site-packages (from jupyter-core>=4.7->nbconvert) (3.3.0)\n",
      "Requirement already satisfied: pywin32>=300 in c:\\users\\todd_\\appdata\\local\\packages\\pythonsoftwarefoundation.python.3.10_qbz5n2kfra8p0\\localcache\\local-packages\\python310\\site-packages (from jupyter-core>=4.7->nbconvert) (306)\n",
      "Requirement already satisfied: jupyter-client>=6.1.12 in c:\\users\\todd_\\appdata\\local\\packages\\pythonsoftwarefoundation.python.3.10_qbz5n2kfra8p0\\localcache\\local-packages\\python310\\site-packages (from nbclient>=0.5.0->nbconvert) (8.2.0)\n",
      "Requirement already satisfied: fastjsonschema in c:\\users\\todd_\\appdata\\local\\packages\\pythonsoftwarefoundation.python.3.10_qbz5n2kfra8p0\\localcache\\local-packages\\python310\\site-packages (from nbformat>=5.1->nbconvert) (2.16.3)\n",
      "Requirement already satisfied: jsonschema>=2.6 in c:\\users\\todd_\\appdata\\local\\packages\\pythonsoftwarefoundation.python.3.10_qbz5n2kfra8p0\\localcache\\local-packages\\python310\\site-packages (from nbformat>=5.1->nbconvert) (4.17.3)\n",
      "Requirement already satisfied: soupsieve>1.2 in c:\\users\\todd_\\appdata\\local\\packages\\pythonsoftwarefoundation.python.3.10_qbz5n2kfra8p0\\localcache\\local-packages\\python310\\site-packages (from beautifulsoup4->nbconvert) (2.4)\n",
      "Requirement already satisfied: six>=1.9.0 in c:\\users\\todd_\\appdata\\local\\packages\\pythonsoftwarefoundation.python.3.10_qbz5n2kfra8p0\\localcache\\local-packages\\python310\\site-packages (from bleach->nbconvert) (1.16.0)\n",
      "Requirement already satisfied: webencodings in c:\\users\\todd_\\appdata\\local\\packages\\pythonsoftwarefoundation.python.3.10_qbz5n2kfra8p0\\localcache\\local-packages\\python310\\site-packages (from bleach->nbconvert) (0.5.1)\n",
      "Requirement already satisfied: pyparsing!=3.0.5,>=2.0.2 in c:\\users\\todd_\\appdata\\local\\packages\\pythonsoftwarefoundation.python.3.10_qbz5n2kfra8p0\\localcache\\local-packages\\python310\\site-packages (from packaging->nbconvert) (3.0.9)\n",
      "Requirement already satisfied: pyrsistent!=0.17.0,!=0.17.1,!=0.17.2,>=0.14.0 in c:\\users\\todd_\\appdata\\local\\packages\\pythonsoftwarefoundation.python.3.10_qbz5n2kfra8p0\\localcache\\local-packages\\python310\\site-packages (from jsonschema>=2.6->nbformat>=5.1->nbconvert) (0.19.3)\n",
      "Requirement already satisfied: attrs>=17.4.0 in c:\\users\\todd_\\appdata\\local\\packages\\pythonsoftwarefoundation.python.3.10_qbz5n2kfra8p0\\localcache\\local-packages\\python310\\site-packages (from jsonschema>=2.6->nbformat>=5.1->nbconvert) (22.2.0)\n",
      "Requirement already satisfied: tornado>=6.2 in c:\\users\\todd_\\appdata\\local\\packages\\pythonsoftwarefoundation.python.3.10_qbz5n2kfra8p0\\localcache\\local-packages\\python310\\site-packages (from jupyter-client>=6.1.12->nbclient>=0.5.0->nbconvert) (6.3.1)\n",
      "Requirement already satisfied: pyzmq>=23.0 in c:\\users\\todd_\\appdata\\local\\packages\\pythonsoftwarefoundation.python.3.10_qbz5n2kfra8p0\\localcache\\local-packages\\python310\\site-packages (from jupyter-client>=6.1.12->nbclient>=0.5.0->nbconvert) (25.0.2)\n",
      "Requirement already satisfied: python-dateutil>=2.8.2 in c:\\users\\todd_\\appdata\\local\\packages\\pythonsoftwarefoundation.python.3.10_qbz5n2kfra8p0\\localcache\\local-packages\\python310\\site-packages (from jupyter-client>=6.1.12->nbclient>=0.5.0->nbconvert) (2.8.2)\n",
      "Note: you may need to restart the kernel to use updated packages.\n"
     ]
    },
    {
     "name": "stderr",
     "output_type": "stream",
     "text": [
      "\n",
      "[notice] A new release of pip is available: 23.0.1 -> 23.1.1\n",
      "[notice] To update, run: C:\\Users\\todd_\\AppData\\Local\\Microsoft\\WindowsApps\\PythonSoftwareFoundation.Python.3.10_qbz5n2kfra8p0\\python.exe -m pip install --upgrade pip\n"
     ]
    }
   ],
   "source": [
    "%pip install nbconvert\n",
    "import nbconvert\n",
    "import os\n",
    "\n",
    "def convert_ipynb_to_pdf(input_file, output_file):\n",
    "    os.system(f\"jupyter nbconvert --to pdf {input_file} --output {output_file}\")\n",
    "\n",
    "if __name__ == \"__main__\":\n",
    "    input_file = \"combined.ipynb\"\n",
    "    output_file = \"Digital_Twin_Guide.pdf\"\n",
    "    convert_ipynb_to_pdf(input_file, output_file)\n"
   ]
  }
 ],
 "metadata": {
  "kernelspec": {
   "display_name": "Python 3",
   "language": "python",
   "name": "python3"
  },
  "language_info": {
   "codemirror_mode": {
    "name": "ipython",
    "version": 3
   },
   "file_extension": ".py",
   "mimetype": "text/x-python",
   "name": "python",
   "nbconvert_exporter": "python",
   "pygments_lexer": "ipython3",
   "version": "3.10.11"
  },
  "orig_nbformat": 4
 },
 "nbformat": 4,
 "nbformat_minor": 2
}
