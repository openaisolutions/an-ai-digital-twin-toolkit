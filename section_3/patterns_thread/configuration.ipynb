{
 "cells": [
  {
   "attachments": {},
   "cell_type": "markdown",
   "metadata": {},
   "source": [
    "This code adds a new generate_ai_response method to the Configuration class, which sends a prompt to the OpenAI API and returns the AI-generated response. The chatbot_config method now uses this AI-generated response to interact with the user.\n",
    "\n",
    "Make sure to replace \"your_openai_api_key\" with your actual OpenAI API key, and note that you may need to adjust the API call parameters, such as engine, max_tokens, and temperature, to fit your specific use case."
   ]
  },
  {
   "cell_type": "code",
   "execution_count": 1,
   "metadata": {},
   "outputs": [],
   "source": [
    "import os\n",
    "import json\n",
    "import openai\n",
    "from typing import Dict, Any\n",
    "\n",
    "# Set your API key\n",
    "openai.api_key = \"your_openai_api_key\"\n",
    "\n",
    "\n",
    "class Configuration:\n",
    "    def __init__(self, config_file: str = \"config.json\"):\n",
    "        self.config_file = config_file\n",
    "        self.config_data = self.load_config()\n",
    "\n",
    "    def load_config(self) -> Dict[str, Any]:\n",
    "        if os.path.exists(self.config_file):\n",
    "            with open(self.config_file, \"r\") as file:\n",
    "                config_data = json.load(file)\n",
    "            return config_data\n",
    "        else:\n",
    "            raise FileNotFoundError(f\"Configuration file '{self.config_file}' not found.\")\n",
    "\n",
    "    def get_value(self, key: str, default: Any = None) -> Any:\n",
    "        return self.config_data.get(key, default)\n",
    "\n",
    "    def set_value(self, key: str, value: Any) -> None:\n",
    "        self.config_data[key] = value\n",
    "        self.save_config()\n",
    "\n",
    "    def save_config(self) -> None:\n",
    "        with open(self.config_file, \"w\") as file:\n",
    "            json.dump(self.config_data, file, indent=4, sort_keys=True)\n",
    "\n",
    "\n",
    "\n",
    "    def generate_ai_response(self, prompt: str) -> str:\n",
    "        response = openai.Completion.create(\n",
    "            engine=\"davinci-codex\",\n",
    "            prompt=prompt,\n",
    "            max_tokens=100,\n",
    "            n=1,\n",
    "            stop=None,\n",
    "            temperature=0.7,\n",
    "        )\n",
    "\n",
    "        return response.choices[0].text.strip()\n",
    "\n",
    "    def chatbot_config(self) -> None:\n",
    "        while True:\n",
    "            key = input(\"Enter a configuration key (type 'exit' to quit): \")\n",
    "            if key.lower() == \"exit\":\n",
    "                break\n",
    "            value = input(\"Enter a value for the key: \")\n",
    "            self.set_value(key, value)\n",
    "\n",
    "            # Use the AI to generate a response\n",
    "            ai_prompt = f\"Configuration saved. Key: '{key}', Value: '{value}'. What should the user do next?\"\n",
    "            ai_response = self.generate_ai_response(ai_prompt)\n",
    "\n",
    "            chatbot_response = input(\n",
    "                f\"{ai_response} Press enter to continue or type 'exit' to quit.\")\n",
    "            if chatbot_response.lower() == \"exit\":\n",
    "                break\n"
   ]
  }
 ],
 "metadata": {
  "kernelspec": {
   "display_name": "Python 3",
   "language": "python",
   "name": "python3"
  },
  "language_info": {
   "codemirror_mode": {
    "name": "ipython",
    "version": 3
   },
   "file_extension": ".py",
   "mimetype": "text/x-python",
   "name": "python",
   "nbconvert_exporter": "python",
   "pygments_lexer": "ipython3",
   "version": "3.10.11"
  },
  "orig_nbformat": 4
 },
 "nbformat": 4,
 "nbformat_minor": 2
}
